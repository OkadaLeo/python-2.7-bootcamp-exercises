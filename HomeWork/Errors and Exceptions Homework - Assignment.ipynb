{
 "cells": [
  {
   "cell_type": "code",
   "execution_count": 6,
   "metadata": {},
   "outputs": [
    {
     "name": "stdout",
     "output_type": "stream",
     "text": [
      "Its not possible to use pow operators with string values!\n"
     ]
    }
   ],
   "source": [
    "try:\n",
    "    for i in ['a','b','c']:\n",
    "        print i**2\n",
    "except:\n",
    "    print 'It''s not possible to use pow operators with string values!'"
   ]
  },
  {
   "cell_type": "code",
   "execution_count": 5,
   "metadata": {},
   "outputs": [
    {
     "name": "stdout",
     "output_type": "stream",
     "text": [
      "Its not possible to make a division by zero!\n",
      "All Done\n"
     ]
    }
   ],
   "source": [
    "try:\n",
    "    x = 5\n",
    "    y = 0\n",
    "\n",
    "    z = x/y\n",
    "except ZeroDivisionError:\n",
    "    print 'It''s not possible to make a division by zero!'\n",
    "finally:\n",
    "    print 'All Done'"
   ]
  },
  {
   "cell_type": "code",
   "execution_count": 2,
   "metadata": {},
   "outputs": [
    {
     "name": "stdout",
     "output_type": "stream",
     "text": [
      "Input an integer:null\n",
      "An error ocurred! Please try again!\n",
      "Input an integer:2\n",
      "Thank you, your number squared is: 4\n"
     ]
    }
   ],
   "source": [
    "def ask():\n",
    "    userInputtedAnInteger = False\n",
    "    \n",
    "    while not userInputtedAnInteger:\n",
    "        try:\n",
    "            integer = int(raw_input('Input an integer:'))            \n",
    "            print 'Thank you, your number squared is: ' + str(integer**2)\n",
    "            userInputtedAnInteger = True\n",
    "        except:\n",
    "            print 'An error ocurred! Please try again!'\n",
    "\n",
    "ask()"
   ]
  },
  {
   "cell_type": "code",
   "execution_count": null,
   "metadata": {
    "collapsed": true
   },
   "outputs": [],
   "source": []
  }
 ],
 "metadata": {
  "kernelspec": {
   "display_name": "Python 2",
   "language": "python",
   "name": "python2"
  },
  "language_info": {
   "codemirror_mode": {
    "name": "ipython",
    "version": 2
   },
   "file_extension": ".py",
   "mimetype": "text/x-python",
   "name": "python",
   "nbconvert_exporter": "python",
   "pygments_lexer": "ipython2",
   "version": "2.7.13"
  }
 },
 "nbformat": 4,
 "nbformat_minor": 2
}

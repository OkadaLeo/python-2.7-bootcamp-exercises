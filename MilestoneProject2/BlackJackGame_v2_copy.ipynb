{
 "cells": [
  {
   "cell_type": "code",
   "execution_count": 2,
   "metadata": {},
   "outputs": [],
   "source": [
    "import random\n",
    "from IPython.display import clear_output\n",
    "\n",
    "class BlackJack_Game(object):\n",
    "        \n",
    "    _card_ranks = {'Ace':11,'2':2,'3':3,'4':4,'5':5,'6':6,'7':7,'8':8,'9':9,'10':10,'Jack':10,'Queen':10,'King':10}\n",
    "    _card_suits = ('Spades','Hearts','Clubs','Diamonds')\n",
    "        \n",
    "    class _Player(object):        \n",
    "        def __init__(self, player_name, bankroll = 1000):\n",
    "            self.player_name = player_name\n",
    "            self.bankroll = bankroll\n",
    "        \n",
    "        #def GetPlayerHandSum(self):\n",
    "        #    hand_sum = 0\n",
    "        #    for card in _deck:\n",
    "        #        if _deck[card] == self:\n",
    "        #            hand_sum += _card_ranks[card[0]]\n",
    "        #    return hand_sum\n",
    "        \n",
    "    def __init__(self):\n",
    "        self._deck = {(rank,suit):None for rank in BlackJack_Game._card_ranks for suit in BlackJack_Game._card_suits}\n",
    "        self._players = set()\n",
    "        \n",
    "        print 'Starting a new BlackJack game!'\n",
    "        self.AddPlayer('Dealer')\n",
    "        self.AddPlayer()\n",
    "        #SetPlayers() #--> Gives the option to add, remove and view players in the game\n",
    "        print '\\nPlayers have been defined!'\n",
    "        self.ViewPlayers()\n",
    "        raw_input('Press Enter to start the game.')\n",
    "        self.StartGame()\n",
    "        print '\\nGame over!\\nThanks for playing!'            \n",
    "\n",
    "    def ViewPlayers(self):\n",
    "        if len(self._players) <= 0:\n",
    "            print 'There are no players in the game!'\n",
    "        else:\n",
    "            print 'The following players are in the game:'\n",
    "            sorted_player_list = sorted(self._players, key = lambda player: player.player_name)\n",
    "            for player in sorted_player_list:\n",
    "                print '\\nPlayer: ' + player.player_name + '\\nBankroll: ' + str(player.bankroll)\n",
    "        \n",
    "    def AddPlayer(self, player_name = 'Player', bankroll = 1000):\n",
    "        if player_name == 'Player':         \n",
    "            player_name = self.GetNewDefaultPlayerName()\n",
    "        if player_name not in [player.player_name for player in self._players]:\n",
    "            new_player = self._Player(player_name, bankroll)\n",
    "            self._players.add(new_player)\n",
    "            print 'Added \"' + player_name + '\" to the game!'\n",
    "        else:\n",
    "            print '\"' + player_name + '\" already exists in the game!'\n",
    "        \n",
    "    def GetNewDefaultPlayerName(self):\n",
    "        player_name = 'Player'\n",
    "        player_index = 1\n",
    "        new_player_name = player_name + str(player_index)\n",
    "\n",
    "        while new_player_name in [player.player_name for player in self._players]:\n",
    "            player_index += 1\n",
    "            new_player_name = player_name + str(player_index)\n",
    "        return new_player_name\n",
    "        \n",
    "    def RemovePlayer(self, player_name):\n",
    "        if player_name == 'Dealer':\n",
    "            print \"The Dealer can't be removed from the game!\"\n",
    "        else:\n",
    "            players_to_remove = [player for player in self._players if player.player_name == player_name]\n",
    "            if len(players_to_remove) > 0:\n",
    "                for player in players_to_remove:\n",
    "                    self._players.remove(player)\n",
    "                print 'Removed \"' + player_name + '\" from the game!'\n",
    "            else:\n",
    "                print '\"' + player_name + '\" is not in this game!'     \n",
    "        \n",
    "    def ResetDeck(self):\n",
    "        for card, owner in self._deck.iteritems():\n",
    "            owner = None if owner <> None else owner\n",
    "        print 'Deck has been reseted!'\n",
    "        \n",
    "    def StartGame(self):\n",
    "        _game_is_over = False\n",
    "        _round_is_over = False\n",
    "        clear_output()\n",
    "        \n",
    "        while _game_is_over == False:\n",
    "            winners = list()\n",
    "            self.ResetDeck()\n",
    "            self.DealFirstCards()\n",
    "            winners = self.GetPlayersWithBlackJack()\n",
    "            raw_input('Press Enter to continue the game.')\n",
    "            \n",
    "            while len(winners) <= 0 and _round_is_over == False:\n",
    "                for player in self._players:\n",
    "                    clear_output()\n",
    "                    stand = False\n",
    "                    option = ''\n",
    "                    while self.GetPlayerPointSum(player) < 21 and stand == False:\n",
    "                        self.ViewCardsFromAllPlayers()\n",
    "                        print \"It's \" + player.player_name + \"'s turn!\"\n",
    "                        option = self.GetPlayerAction()\n",
    "                        if option == 'S':\n",
    "                            print 'Stand!'\n",
    "                            stand = True\n",
    "                        else:\n",
    "                            print 'Hit!'\n",
    "                            self.DealOneCard(player)\n",
    "                    if self.GetPlayerPointSum(player) > 21:\n",
    "                        print '\"' + player.player_name +'\" busted!'\n",
    "                _round_is_over = True\n",
    "            print '\\nRound over!'\n",
    "            \n",
    "            _game_is_over = True\n",
    "    \n",
    "    def GetPlayerAction(self):\n",
    "        option = ''\n",
    "        while option.upper() not in ['H', 'S']:\n",
    "            option = raw_input('Choose an option:' + '\\n' + 'Enter \"H\" to Hit.' + '\\n' + 'Enter \"S\" to Stand\\n')\n",
    "        return option.upper()\n",
    "    \n",
    "    def DealFirstCards(self):\n",
    "        print 'Dealing cards...\\n'\n",
    "        for player in self._players:\n",
    "            for card in random.sample([card for card, owner in self._deck.iteritems() if owner == None], 2):\n",
    "                self._deck[card] = player\n",
    "            self.ViewCardsFromOnePlayer(player)\n",
    "    \n",
    "    def DealOneCard(self, player):\n",
    "        for card in random.sample([card for card, owner in self._deck.iteritems() if owner == None], 1):\n",
    "            self._deck[card] = player\n",
    "        self.ViewCardsFromOnePlayer(player)\n",
    "    \n",
    "    def ViewCardsFromAllPlayers(self):\n",
    "        for player in self._players:\n",
    "            self.ViewCardsFromOnePlayer(player)\n",
    "\n",
    "    def ViewCardsFromOnePlayer(self, player):\n",
    "        print player.player_name + ' has the following cards:'\n",
    "        for card, owner in self._deck.iteritems():\n",
    "            if owner == player:\n",
    "                print card[0] + ' of ' + card[1]\n",
    "        print player.player_name + ' has ' + str(self.GetPlayerPointSum(player)) + ' points.' + '\\n'\n",
    "        \n",
    "    def ViewWinners(self, winners):\n",
    "        if len(winners) == 1:\n",
    "            print 'The winner is :' + winners[0].player_name + '!'\n",
    "        elif len(winners) > 1:\n",
    "            print \"It's a tie !\"\n",
    "            #print \"It's a tie between these players: \" + (lambda winner: winners\n",
    "\n",
    "    def GetPlayersWithBlackJack(self):\n",
    "        players_with_blackjack = list()\n",
    "        for player in self._players:\n",
    "            if self.GetPlayerPointSum(player) == 21:\n",
    "                players_with_blackjack.append(player)\n",
    "        \n",
    "        return players_with_blackjack\n",
    "    \n",
    "    def GetWinners(self):\n",
    "        winners = list()\n",
    "        max_points = 0\n",
    "        player_sum = {player : self.GetPlayerPointSum(player) for player in self._players}\n",
    "        player_sum_not_busted = {player : points for player, points in player_sum.iteritems() if points <= 21}\n",
    "        if len(winners) > 1:\n",
    "            max_points = max(player_sum_not_busted.values())\n",
    "            winners = [player for player, points in player_sum_not_busted.iteritems() if points == max_points]\n",
    "        return winners\n",
    "    \n",
    "    def GetPlayerPointSum(self, player):\n",
    "        hand_sum = 0\n",
    "        for card, owner in self._deck.iteritems():\n",
    "            if owner == player:\n",
    "                hand_sum += BlackJack_Game._card_ranks[card[0]]\n",
    "        return hand_sum\n",
    "    "
   ]
  },
  {
   "cell_type": "code",
   "execution_count": 3,
   "metadata": {},
   "outputs": [
    {
     "name": "stdout",
     "output_type": "stream",
     "text": [
      "Deck has been reseted!\n",
      "Dealing cards...\n",
      "\n",
      "Dealer has the following cards:\n",
      "King of Diamonds\n",
      "9 of Hearts\n",
      "Dealer has 19 points.\n",
      "\n",
      "Player1 has the following cards:\n",
      "Ace of Clubs\n",
      "Queen of Diamonds\n",
      "Player1 has 21 points.\n",
      "\n",
      "Press Enter to continue the game.\n",
      "\n",
      "Round over!\n",
      "\n",
      "Game over!\n",
      "Thanks for playing!\n"
     ]
    }
   ],
   "source": [
    "game = BlackJack_Game()"
   ]
  },
  {
   "cell_type": "code",
   "execution_count": 3,
   "metadata": {},
   "outputs": [
    {
     "ename": "NameError",
     "evalue": "name 'game' is not defined",
     "output_type": "error",
     "traceback": [
      "\u001b[1;31m---------------------------------------------------------------------------\u001b[0m",
      "\u001b[1;31mNameError\u001b[0m                                 Traceback (most recent call last)",
      "\u001b[1;32m<ipython-input-3-8d81110ffaa3>\u001b[0m in \u001b[0;36m<module>\u001b[1;34m()\u001b[0m\n\u001b[1;32m----> 1\u001b[1;33m \u001b[0mgame\u001b[0m\u001b[1;33m.\u001b[0m\u001b[0mViewPlayers\u001b[0m\u001b[1;33m(\u001b[0m\u001b[1;33m)\u001b[0m\u001b[1;33m\u001b[0m\u001b[0m\n\u001b[0m\u001b[0;32m      2\u001b[0m \u001b[0mgame\u001b[0m\u001b[1;33m.\u001b[0m\u001b[0m_card_ranks\u001b[0m\u001b[1;33m\u001b[0m\u001b[0m\n",
      "\u001b[1;31mNameError\u001b[0m: name 'game' is not defined"
     ]
    }
   ],
   "source": [
    "game.ViewPlayers()\n",
    "game._card_ranks"
   ]
  },
  {
   "cell_type": "code",
   "execution_count": 311,
   "metadata": {},
   "outputs": [
    {
     "name": "stdout",
     "output_type": "stream",
     "text": [
      "Added \"Leo\" to the game!\n",
      "The following players are in the game:\n",
      "\n",
      "Player: Dealer\n",
      "Bankroll: 1000\n",
      "\n",
      "Player: Leo\n",
      "Bankroll: 1000\n",
      "\n",
      "Player: Player1\n",
      "Bankroll: 1000\n",
      "\n",
      "Player: Player2\n",
      "Bankroll: 1000\n"
     ]
    }
   ],
   "source": [
    "game.AddPlayer('Leo')\n",
    "game.ViewPlayers()"
   ]
  },
  {
   "cell_type": "code",
   "execution_count": 312,
   "metadata": {
    "scrolled": true
   },
   "outputs": [
    {
     "name": "stdout",
     "output_type": "stream",
     "text": [
      "Removed \"Leo\" from the game!\n"
     ]
    }
   ],
   "source": [
    "game.RemovePlayer('Leo')"
   ]
  },
  {
   "cell_type": "code",
   "execution_count": 31,
   "metadata": {
    "collapsed": true
   },
   "outputs": [],
   "source": [
    "k={'King':10}"
   ]
  },
  {
   "cell_type": "code",
   "execution_count": 32,
   "metadata": {},
   "outputs": [
    {
     "data": {
      "text/plain": [
       "<function keys>"
      ]
     },
     "execution_count": 32,
     "metadata": {},
     "output_type": "execute_result"
    }
   ],
   "source": [
    "k.keys"
   ]
  },
  {
   "cell_type": "code",
   "execution_count": 53,
   "metadata": {
    "collapsed": true
   },
   "outputs": [],
   "source": [
    "_card_ranks = {'Ace':11,'2':2,'3':3,'4':4,'5':5,'6':6,'7':7,'8':8,'9':9,'10':10,'Jack':10,'Queen':10,'King':10}\n",
    "_card_suits = ('Spades','Hearts','Clubs','Diamonds')\n",
    "_deck = {(rank,suit):'none' for rank in _card_ranks for suit in _card_suits}"
   ]
  },
  {
   "cell_type": "code",
   "execution_count": 57,
   "metadata": {},
   "outputs": [
    {
     "data": {
      "text/plain": [
       "{('10', 'Clubs'): 'none',\n",
       " ('10', 'Diamonds'): 'none',\n",
       " ('10', 'Hearts'): 'none',\n",
       " ('10', 'Spades'): 'none',\n",
       " ('2', 'Clubs'): 'none',\n",
       " ('2', 'Diamonds'): 'none',\n",
       " ('2', 'Hearts'): 'none',\n",
       " ('2', 'Spades'): 'none',\n",
       " ('3', 'Clubs'): 'none',\n",
       " ('3', 'Diamonds'): 'none',\n",
       " ('3', 'Hearts'): 'none',\n",
       " ('3', 'Spades'): 'none',\n",
       " ('4', 'Clubs'): 'none',\n",
       " ('4', 'Diamonds'): 'none',\n",
       " ('4', 'Hearts'): 'none',\n",
       " ('4', 'Spades'): 'none',\n",
       " ('5', 'Clubs'): 'none',\n",
       " ('5', 'Diamonds'): 'none',\n",
       " ('5', 'Hearts'): 'none',\n",
       " ('5', 'Spades'): 'none',\n",
       " ('6', 'Clubs'): 'none',\n",
       " ('6', 'Diamonds'): 'none',\n",
       " ('6', 'Hearts'): 'none',\n",
       " ('6', 'Spades'): 'none',\n",
       " ('7', 'Clubs'): 'none',\n",
       " ('7', 'Diamonds'): 'none',\n",
       " ('7', 'Hearts'): 'none',\n",
       " ('7', 'Spades'): 'none',\n",
       " ('8', 'Clubs'): 'none',\n",
       " ('8', 'Diamonds'): 'none',\n",
       " ('8', 'Hearts'): 'none',\n",
       " ('8', 'Spades'): 'none',\n",
       " ('9', 'Clubs'): 'none',\n",
       " ('9', 'Diamonds'): 'none',\n",
       " ('9', 'Hearts'): 'none',\n",
       " ('9', 'Spades'): 'none',\n",
       " ('Ace', 'Clubs'): 'none',\n",
       " ('Ace', 'Diamonds'): 'none',\n",
       " ('Ace', 'Hearts'): 'none',\n",
       " ('Ace', 'Spades'): 'none',\n",
       " ('Jack', 'Clubs'): 'none',\n",
       " ('Jack', 'Diamonds'): 'none',\n",
       " ('Jack', 'Hearts'): 'none',\n",
       " ('Jack', 'Spades'): 'none',\n",
       " ('King', 'Clubs'): 'none',\n",
       " ('King', 'Diamonds'): 'none',\n",
       " ('King', 'Hearts'): 'none',\n",
       " ('King', 'Spades'): 'none',\n",
       " ('Queen', 'Clubs'): 'none',\n",
       " ('Queen', 'Diamonds'): 'none',\n",
       " ('Queen', 'Hearts'): 'none',\n",
       " ('Queen', 'Spades'): 'none'}"
      ]
     },
     "execution_count": 57,
     "metadata": {},
     "output_type": "execute_result"
    }
   ],
   "source": [
    "_deck"
   ]
  },
  {
   "cell_type": "code",
   "execution_count": 72,
   "metadata": {},
   "outputs": [
    {
     "name": "stdout",
     "output_type": "stream",
     "text": [
      "('Ace', 'Clubs') 11\n"
     ]
    }
   ],
   "source": [
    "for card in random.sample(_deck, 1):\n",
    "    print card, _card_ranks[card[0]]"
   ]
  },
  {
   "cell_type": "code",
   "execution_count": 40,
   "metadata": {
    "collapsed": true
   },
   "outputs": [],
   "source": [
    "x = 'asd'"
   ]
  },
  {
   "cell_type": "code",
   "execution_count": 41,
   "metadata": {},
   "outputs": [
    {
     "data": {
      "text/plain": [
       "'ASD'"
      ]
     },
     "execution_count": 41,
     "metadata": {},
     "output_type": "execute_result"
    }
   ],
   "source": [
    "x.upper()"
   ]
  },
  {
   "cell_type": "code",
   "execution_count": 11,
   "metadata": {},
   "outputs": [
    {
     "data": {
      "text/plain": [
       "'d'"
      ]
     },
     "execution_count": 11,
     "metadata": {},
     "output_type": "execute_result"
    }
   ],
   "source": [
    "aaa = 'x'\n",
    "bbb = 'teste' if aaa == None else 'd'\n",
    "bbb"
   ]
  },
  {
   "cell_type": "code",
   "execution_count": 58,
   "metadata": {
    "collapsed": true
   },
   "outputs": [],
   "source": [
    "d = {'a':1000, 'b':2000, 'c':5000, 'd':5000}"
   ]
  },
  {
   "cell_type": "code",
   "execution_count": 52,
   "metadata": {},
   "outputs": [
    {
     "data": {
      "text/plain": [
       "'d'"
      ]
     },
     "execution_count": 52,
     "metadata": {},
     "output_type": "execute_result"
    }
   ],
   "source": [
    "max(d)"
   ]
  },
  {
   "cell_type": "code",
   "execution_count": 49,
   "metadata": {},
   "outputs": [
    {
     "data": {
      "text/plain": [
       "'c'"
      ]
     },
     "execution_count": 49,
     "metadata": {},
     "output_type": "execute_result"
    }
   ],
   "source": [
    "max(d, key=lambda x: d[x])"
   ]
  },
  {
   "cell_type": "code",
   "execution_count": 60,
   "metadata": {
    "collapsed": true
   },
   "outputs": [],
   "source": [
    "a = [(x,y) for x,y in d.iteritems() if y == max(d.values())]"
   ]
  },
  {
   "cell_type": "code",
   "execution_count": 62,
   "metadata": {
    "collapsed": true
   },
   "outputs": [],
   "source": [
    "a = 'dd'"
   ]
  },
  {
   "cell_type": "code",
   "execution_count": null,
   "metadata": {
    "collapsed": true
   },
   "outputs": [],
   "source": [
    "a.join"
   ]
  },
  {
   "cell_type": "code",
   "execution_count": null,
   "metadata": {
    "collapsed": true
   },
   "outputs": [],
   "source": []
  }
 ],
 "metadata": {
  "kernelspec": {
   "display_name": "Python 2",
   "language": "python",
   "name": "python2"
  },
  "language_info": {
   "codemirror_mode": {
    "name": "ipython",
    "version": 2
   },
   "file_extension": ".py",
   "mimetype": "text/x-python",
   "name": "python",
   "nbconvert_exporter": "python",
   "pygments_lexer": "ipython2",
   "version": "2.7.13"
  }
 },
 "nbformat": 4,
 "nbformat_minor": 2
}

{
 "cells": [
  {
   "cell_type": "code",
   "execution_count": 2,
   "metadata": {},
   "outputs": [
    {
     "name": "stdout",
     "output_type": "stream",
     "text": [
      "|X|O|X|\n",
      "|O|X|O|\n",
      "|O|X|X|\n",
      "X is the Winner!\n",
      "Press Enter to play again or input Exit to stop playing.exit\n",
      "Thanks For Playing!\n"
     ]
    }
   ],
   "source": [
    "from IPython.display import clear_output\n",
    "def PrintBoard(board) :\n",
    "    if type(board) != list or len(board) != 9 :\n",
    "        print('Error: The board should be a list variable with 9 positions!')\n",
    "    else :\n",
    "        position = 0\n",
    "        line = ''\n",
    "        while position < len(board) :\n",
    "            line += '|' + board[position]\n",
    "            if position > 0 and (position + 1) % 3 == 0 :\n",
    "                print line + '|'\n",
    "                line = ''\n",
    "            position += 1\n",
    "            \n",
    "def CheckIfIsWinner(board, marker) :\n",
    "    flagIsWinner = False\n",
    "    if type(board) != list or len(board) != 9 :\n",
    "        print('Error: The board should be a list variable with 9 positions!')\n",
    "    else :\n",
    "        return ((marker == board[0] == board[1] == board[2]) or\n",
    "                (marker == board[3] == board[4] == board[5]) or\n",
    "                (marker == board[6] == board[7] == board[8]) or\n",
    "                (marker == board[0] == board[3] == board[6]) or\n",
    "                (marker == board[1] == board[4] == board[7]) or\n",
    "                (marker == board[2] == board[5] == board[8]) or\n",
    "                (marker == board[0] == board[4] == board[8]) or\n",
    "                (marker == board[2] == board[4] == board[6])) \n",
    "    \n",
    "def CheckIfIsTied(board):\n",
    "    flagIsWinner = False\n",
    "    if type(board) != list or len(board) != 9 :\n",
    "        print('Error: The board should be a list variable with 9 positions!')\n",
    "    else :\n",
    "        return board.count('X') + board.count('O') == 9\n",
    "    \n",
    "def ResetBoard():\n",
    "    return ['1', '2', '3', '4', '5', '6', '7', '8', '9']\n",
    "\n",
    "def TicTacToe() :\n",
    "    gameIsOver = False\n",
    "    playAgain = ''\n",
    "    markers = ['X', 'O']\n",
    "    board = ResetBoard()\n",
    "\n",
    "    while not gameIsOver :\n",
    "        marker = markers[0]\n",
    "        position = -1\n",
    "        while position < 1 or 9 < position or board[position - 1] != str(position) :\n",
    "            clear_output()\n",
    "            PrintBoard(board)\n",
    "            position = input('It''s ' + marker + ' turn! Select a position to place the ' + marker + ' marker')\n",
    "            print position\n",
    "        board[position - 1] = marker\n",
    "\n",
    "\n",
    "        if CheckIfIsWinner(board, marker) == True:\n",
    "            clear_output()\n",
    "            PrintBoard(board)\n",
    "            print marker + ' is the Winner!'\n",
    "            if raw_input('Press Enter to play again or input ''Exit'' to stop playing.').upper() == 'EXIT':\n",
    "                gameIsOver = True\n",
    "            else :\n",
    "                board = ResetBoard()\n",
    "        elif CheckIfIsTied(board) == True :\n",
    "            clear_output()\n",
    "            PrintBoard(board)\n",
    "            print('It''s a Tie!')\n",
    "            if raw_input('Press Enter to play again or input ''Exit'' to stop playing.').upper() == 'EXIT':\n",
    "                gameIsOver = True\n",
    "            else :                \n",
    "                board = ResetBoard()\n",
    "        #else :\n",
    "        markers = markers[::-1] \n",
    "    print 'Thanks For Playing!'\n",
    "    \n",
    "TicTacToe()"
   ]
  },
  {
   "cell_type": "code",
   "execution_count": null,
   "metadata": {
    "collapsed": true
   },
   "outputs": [],
   "source": []
  },
  {
   "cell_type": "code",
   "execution_count": null,
   "metadata": {
    "collapsed": true
   },
   "outputs": [],
   "source": []
  }
 ],
 "metadata": {
  "kernelspec": {
   "display_name": "Python 2",
   "language": "python",
   "name": "python2"
  },
  "language_info": {
   "codemirror_mode": {
    "name": "ipython",
    "version": 2
   },
   "file_extension": ".py",
   "mimetype": "text/x-python",
   "name": "python",
   "nbconvert_exporter": "python",
   "pygments_lexer": "ipython2",
   "version": "2.7.13"
  }
 },
 "nbformat": 4,
 "nbformat_minor": 2
}

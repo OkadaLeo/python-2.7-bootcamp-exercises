{
 "cells": [
  {
   "cell_type": "code",
   "execution_count": 201,
   "metadata": {},
   "outputs": [],
   "source": [
    "import random\n",
    "\n",
    "class Player:\n",
    "    \n",
    "    ranks = {'A','2','3','4','5','6','7','8','9','10','J','Q','K'}\n",
    "    suits = {'spades', 'diamonds', 'clubs', 'hearts'}\n",
    "    deck = {}\n",
    "\n",
    "    def __init__(self, bankroll = 100):\n",
    "        self.bankroll = bankroll\n",
    "        self.cards = set()\n",
    "        \n",
    "    def ResetDeck(self):\n",
    "        Player.deck = {(rank, suit) for rank in ranks for suit in suits}\n",
    "               \n",
    "    def AddBankroll(self, quantity):\n",
    "        self.bankroll += quantity\n",
    "    \n",
    "    def SubtractBankroll(self, quantity):\n",
    "        self.bankroll -= quantity\n",
    "        \n",
    "    def StartRound(self):\n",
    "        newCards = random.sample(deck, 2)\n",
    "        for card in newCards:\n",
    "            Player.deck.discard(card)\n",
    "            self.cards.add(card)\n",
    "\n",
    "class Dealer:\n",
    "    pass\n",
    "\n",
    "class Card:\n",
    "    def __init__(self, rank, suit):\n",
    "        self.rank = rank\n",
    "        self.suit = suit\n",
    "\n",
    "class Deck:\n",
    "    \n",
    "\n",
    "def BlackJack():\n",
    "    player = Player(1000)\n",
    "    dealer = Player(1000)\n",
    "    player.ResetDeck()\n",
    "    player.StartRound()\n",
    "\n",
    "BlackJack()"
   ]
  },
  {
   "cell_type": "code",
   "execution_count": null,
   "metadata": {
    "collapsed": true
   },
   "outputs": [],
   "source": []
  }
 ],
 "metadata": {
  "kernelspec": {
   "display_name": "Python 2",
   "language": "python",
   "name": "python2"
  },
  "language_info": {
   "codemirror_mode": {
    "name": "ipython",
    "version": 2
   },
   "file_extension": ".py",
   "mimetype": "text/x-python",
   "name": "python",
   "nbconvert_exporter": "python",
   "pygments_lexer": "ipython2",
   "version": "2.7.13"
  }
 },
 "nbformat": 4,
 "nbformat_minor": 2
}
